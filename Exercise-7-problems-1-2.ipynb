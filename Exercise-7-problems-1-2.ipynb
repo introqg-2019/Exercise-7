{
 "cells": [
  {
   "cell_type": "markdown",
   "metadata": {
    "deletable": false,
    "editable": false,
    "nbgrader": {
     "cell_type": "markdown",
     "checksum": "2c311a7988f8b452fdb609f5f896c92d",
     "grade": false,
     "grade_id": "cell-3896802389db7b0f",
     "locked": true,
     "schema_version": 3,
     "solution": false
    }
   },
   "source": [
    "# Problem 1 - Comparing thermochronometer ages (*12 points*)\n",
    "\n",
    "## Overview\n",
    "\n",
    "![Bhutan Himalaya](img/Bhutan_Himalaya.png)<br/>\n",
    "*Figure 1. The Himalaya in Bhutan. [Image source](http://commons.wikimedia.org/wiki/File:View_of_Gasa_Dzong.JPG).*\n",
    "\n",
    "The overall goal of this exercise is to use our heat transfer model to interpret [a thermochronometer dataset from the Himalaya of Bhutan](data/Bhutan_age_data.txt). The interpretation entails determining long-term average rock exhumation rates from rock samples analyzed using apatite and zircon (U-Th)/He, and muscovite <sup>40</sup>Ar/<sup>39</sup>Ar thermochronology. As you will recall, [our exercise last week](https://github.com/IntroQG-2019/Exercise-6) used a 1-D time-dependent solution to the advection-diffusion equation to calculate a temperature-depth profile in the Earth, which was then used to predict thermochronometer ages based on Dodson's method. In that model we specified a rock advection velocity and observed variations in the thermochronometer ages as a function of this  velocity, also known as the exhumation rate. This week we will compare those predicted thermochronometer ages to data from Bhutan with the goal of minimizing the misfit between the measured and predicted thermochronometer ages by varying the specified rock advection velocity (exhumation rate), which will allow us to define a best-fit exhumation rate (or exhumation history) for the Himalaya of Bhutan. For this exercise, we will be using data from [Coutand et al., 2014](https://dx.doi.org/10.1002/2013JB010891) and [Stüwe and Foster, 2001](https://www.sciencedirect.com/science/article/pii/S1367912000000183) (PDFs available on the [main course page](https://introqg.github.io/site/final-paper/articles.html)).\n",
    "\n",
    "In this problem you will modify the Python cells below to read in a data file of thermochronometer data and compare the data to predictions from the simple numerical model used in [Exercise 6](https://github.com/IntroQG-2019/Exercise-6). After making these changes you will modify the plotting to shown not only the the geotherm and particle cooling history used in Exercise 6, but also the age data from the data file and the predicted thermochronometer ages.\n",
    "\n",
    "**Notice**: Closely follow the instructions! For example, you should be sure to use **exactly** the same variable names mentioned in the instructions because your answers will be automatically graded, and the tests that grade your answers rely on following the same formatting or variable naming as in the instructions.\n",
    "\n",
    "**Your score on this problem will be based on following criteria**:\n",
    "\n",
    "- Modifying the provided Python function to format and add text to the plots\n",
    "- Plotting your results and adding figure captions\n",
    "- Including comments that explain what most lines in the code do\n",
    "- Uploading your notebook to your GitHub repository for this week's exercise"
   ]
  },
  {
   "cell_type": "markdown",
   "metadata": {
    "deletable": false,
    "editable": false,
    "nbgrader": {
     "cell_type": "markdown",
     "checksum": "5b890d4cc8bbae19509630d3de3a191a",
     "grade": false,
     "grade_id": "cell-11de98ec564ab2b8",
     "locked": true,
     "schema_version": 3,
     "solution": false
    }
   },
   "source": [
    "## Part 1: Redoing Exercise 6 (*2 points*)\n",
    "\n",
    "The first task in this problem is to edit the Python cell below to contain the changes you were asked to make in [Exercise 6](https://github.com/IntroQG-2019/Exercise-6). Basically, you have the same Python cells we started with last week in Exercise 6, and we want to keep the changes made in that exercise by editing the cell below.\n",
    "Note that only one cell need to be edited (the one that is not read-only).\n",
    "\n",
    "- Run the first *four* Python cells below.\n",
    "- Edit the cell containing the `age_predict` function to do the following things from [Exercise 6](https://github.com/IntroQG-2019/Exercise-6):\n",
    "    - Add axis labels and a title to the plot it produces.\n",
    "    - Add the advection velocity to your the plot using the `ax.text()` function.\n",
    "    - Display the predicted apatite (U-Th)/He, zircon (U-Th)/He, and muscovite $^{40}$Ar/$^{39}$Ar ages and predicted closure temperatures on the plot using the `ax.text()` function.\n",
    "        - As before, I suggest that you use the text plotting function near the bottom of the `age_predict` function where the predicted ages are printed to the screen (if requested).\n",
    "    - Enable plotting of the exhumation history.\n",
    "- Run the Python cell containing the `age_predict` function to store the updated version in memory.\n",
    "- Call the `age_predict` function with calculation of the all three thermochronometer ages enabled.\n",
    "    - As before, look at the definition of `age_predict` to see how to set the flags (`True`/`False` parameters) that allow you to enable the calculation of different thermochronometers.\n",
    "    - This should reproduce Figure 9 from Exercise 6.\n",
    "- Add a figure caption for the plot in the cell beneath it describing it as if it were in a scientific journal article."
   ]
  },
  {
   "cell_type": "code",
   "execution_count": null,
   "metadata": {
    "deletable": false,
    "editable": false,
    "nbgrader": {
     "cell_type": "code",
     "checksum": "fa3885d8d5e88a09bdccf28763612c83",
     "grade": false,
     "grade_id": "cell-a0927e9acc1b1280",
     "locked": true,
     "schema_version": 3,
     "solution": false
    }
   },
   "outputs": [],
   "source": [
    "# Configure Matplotlib plotting\n",
    "%matplotlib inline"
   ]
  },
  {
   "cell_type": "code",
   "execution_count": null,
   "metadata": {
    "deletable": false,
    "editable": false,
    "nbgrader": {
     "cell_type": "code",
     "checksum": "79f5d61e1f24fc274b0f1d40236085cd",
     "grade": false,
     "grade_id": "cell-c67aac98362353b9",
     "locked": true,
     "schema_version": 3,
     "solution": false
    }
   },
   "outputs": [],
   "source": [
    "# Import modules\n",
    "import numpy as np\n",
    "import pandas as pd\n",
    "from scipy.special import erfc\n",
    "import matplotlib.pyplot as plt"
   ]
  },
  {
   "cell_type": "code",
   "execution_count": null,
   "metadata": {
    "deletable": false,
    "editable": false,
    "nbgrader": {
     "cell_type": "code",
     "checksum": "034be15348b611e4949c28db9d78c0dc",
     "grade": false,
     "grade_id": "cell-8357ac2da896c4e0",
     "locked": true,
     "schema_version": 3,
     "solution": false
    }
   },
   "outputs": [],
   "source": [
    "def temp_1D(z, time, g_initial, vz, kappa):\n",
    "    \"\"\"Calculate solution to 1D transient advection-diffusion heat transfer equation.\n",
    "    \n",
    "    Keyword arguments:\n",
    "    z -- array of depths from surface (units: km)\n",
    "    time -- array of time since model start (units: m)\n",
    "    g_initial -- initial temperature gradient (units: deg. C / km)\n",
    "    vz -- vertical advection velocity (units: km / Ma)\n",
    "    kappa -- thermal diffusivity (units: km^2 / Ma)\n",
    "    \"\"\"\n",
    "    # Calculate T separately for case where t = 0 to avoid divide-by-zero warnings\n",
    "    if time == 0:\n",
    "        temperature = g_initial * z\n",
    "    else:\n",
    "        temperature = g_initial * (z + vz * time) + (g_initial / 2.0) * ((z - vz * time) *\\\n",
    "                      np.exp(-(vz * z) / kappa) * erfc((z - vz * time) / (2.0 * np.sqrt(kappa *time))) -\\\n",
    "                      (z + vz * time) * erfc((z + vz * time) / (2.0 * np.sqrt(kappa * time))))\n",
    "    return temperature"
   ]
  },
  {
   "cell_type": "code",
   "execution_count": null,
   "metadata": {
    "deletable": false,
    "editable": false,
    "nbgrader": {
     "cell_type": "code",
     "checksum": "2204eb8a14ed0cddcbef1eb7243d49f1",
     "grade": false,
     "grade_id": "cell-684e961cd5485c3b",
     "locked": true,
     "schema_version": 3,
     "solution": false
    }
   },
   "outputs": [],
   "source": [
    "def dodson(tau, temp_hist, temp_hist_prev, time, time_prev, age, tc_prev, ea, dtdt, a, d0a2, r):\n",
    "    \"\"\"Calculate thermochronometer age and closure temperature using Dodson's method.\n",
    "    \n",
    "    Keyword arguments:\n",
    "    tau -- diffusivity characteristic time (units: Ma)\n",
    "    temp_hist -- current temperature in history (units: deg. C)\n",
    "    temp_hist_prev -- temperature from last iteration (units: deg. C)\n",
    "    time -- time until end of simulation (units: Ma)\n",
    "    time_prev -- previous time until end of simulation (units: Ma)\n",
    "    age -- previous calculated thermochronometer age (units: Ma)\n",
    "    tc_prev -- previous calculated closure temperature (units: deg. C)\n",
    "    ea -- activation energy (units: J / mol)\n",
    "    dtdt -- cooling rate (units: deg. C / Ma)\n",
    "    a -- geometric factor (25 for a sphere, 8.7 for a planar sheet)\n",
    "    d0a2 -- diffusivity at infinite temperature over domain squared (units: 1 / s)\n",
    "    r -- universal gas constant (units: J / (mol K))\n",
    "    \"\"\"\n",
    "    # Calculate diffusivity characteristic time\n",
    "    tau = (r * (temp_hist + 273.15)**2.0) / (ea * dtdt)\n",
    "    # Calculate new closure temperature\n",
    "    tc = ea / (r * np.log(a * tau * d0a2)) - 273.15\n",
    "    # Calculate new cooling age if temperature is above tc\n",
    "    if temp_hist > tc:\n",
    "        ratio = (tc_prev - temp_hist_prev)/(tc_prev - temp_hist_prev + temp_hist - tc)\n",
    "        age = time + (time_prev - time) * ratio\n",
    "    tc_prev = tc\n",
    "    return age, tc, tc_prev"
   ]
  },
  {
   "cell_type": "markdown",
   "metadata": {
    "deletable": false,
    "editable": false,
    "nbgrader": {
     "cell_type": "markdown",
     "checksum": "1873d3709a5f2596414df84b858e5ca5",
     "grade": false,
     "grade_id": "cell-9fd25192efc7669e",
     "locked": true,
     "schema_version": 3,
     "solution": false
    }
   },
   "source": [
    "Edit only the Python cell below."
   ]
  },
  {
   "cell_type": "code",
   "execution_count": null,
   "metadata": {},
   "outputs": [],
   "source": [
    "def age_predict(temp_gradient=10.0, time_total=50.0, vz=0.5,\n",
    "                plot_temp_z_hist=False, n_temp_save=1,\n",
    "                calc_ahe=False, calc_zhe=False, calc_mar=False):\n",
    "    \"\"\"Calculate transient 1D thermal solution and predict thermochronometer ages.\n",
    "    \n",
    "    Keyword arguments:\n",
    "    temp_gradient -- initial thermal gradient (units: deg. C / km; default: 10.0)\n",
    "    time_total -- total thermal model simulation time (units: Ma; default: 50.0)\n",
    "    vz -- vertical advection velocity (units: km/Ma; default: 0.5)\n",
    "    plot_temp_z_hist -- save the temperature-depth history of the tracked particle (default: False)\n",
    "    n_temp_save -- number of temperature profiles to dave (default: 1)\n",
    "    calc_ahe -- calculate apatite (U-Th)/He age (default: False)\n",
    "    calc_zhe -- calculate zircon (U-Th)/He age (default: False)\n",
    "    calc_mar -- calculate muscovite 40Ar/39Ar age (default: False)\n",
    "    \"\"\"\n",
    "\n",
    "    # THERMAL MODEL PARAMETERS\n",
    "    z_max = 50.0            # Thermal model thickness [km]\n",
    "    kappa = 32.0            # Thermal diffusivity [km2 / Ma]\n",
    "    npz = 101               # Number of depth points for temperature calculation\n",
    "    npt = 401               # Number of times for temperature calculation\n",
    "    high_temp = 1000.0      # Temperature to assign if tracked particle depth exceeds zmax\n",
    "    \n",
    "    # CLOSURE TEMPERATURE PARAMETERS\n",
    "    # Apatite (U-Th)/He\n",
    "    size_ahe = 100.0        # Apatite grain size [um]\n",
    "    ea_ahe = 138.0e3        # Activation energy [J/mol]\n",
    "    a_ahe = 25.0            # Geometry factor [25 for sphere]\n",
    "    d0_ahe = 5.0e-3         # Diffusivity at infinite temperature [m2/s]\n",
    "    tau_ahe = 1.0           # Initial guess for characteristic time\n",
    "\n",
    "    # Zircon (U-Th)/He\n",
    "    size_zhe = 100.0        # Zircon grain size [um]\n",
    "    ea_zhe = 168.0e3        # Activation energy [J/mol]\n",
    "    a_zhe = 25.0            # Geometry factor [25 for sphere]\n",
    "    d0_zhe = 4.6e-5         # Diffusivity at infinite temperature [m2/s]\n",
    "    tau_zhe = 1.0           # Initial guess for characteristic time\n",
    "\n",
    "    # Muscovite Ar/Ar\n",
    "    size_mar = 500.0        # Muscovite grain size [um]\n",
    "    ea_mar = 183.0e3        # Activation energy [J/mol]\n",
    "    a_mar = 8.7             # Geometry factor [8.7 for planar sheet]\n",
    "    d0_mar = 3.3e-6         # Diffusivity at infinite temperature [m2/s]\n",
    "    tau_mar = 1.0           # Initial guess for characteristic time\n",
    "\n",
    "    # OTHER CONSTANTS\n",
    "    r = 8.314               # Universal gas constant\n",
    "\n",
    "    # Set initial thermochronometer ages\n",
    "    age_ahe = time_total\n",
    "    age_zhe = time_total\n",
    "    age_mar = time_total\n",
    "\n",
    "    # Convert units\n",
    "    size_ahe = size_ahe / 1.0e6 / 1.0e3                                     # um -> km\n",
    "    size_zhe = size_zhe / 1.0e6 / 1.0e3                                     # um -> km\n",
    "    size_mar = size_mar / 1.0e6 / 1.0e3                                     # um -> km\n",
    "    d0_ahe = d0_ahe * (1 / 1000.0**2.0) * (1.0e6 * 365.25 * 24.0 * 3600.0)  # m2/s -> km2/Ma\n",
    "    d0_zhe = d0_zhe * (1 / 1000.0**2.0) * (1.0e6 * 365.25 * 24.0 * 3600.0)  # m2/s -> km2/Ma\n",
    "    d0_mar = d0_mar * (1 / 1000.0**2.0) * (1.0e6 * 365.25 * 24.0 * 3600.0)  # m2/s -> km2/Ma\n",
    "\n",
    "    # Calculate diffusion parameter D0/a2 for each mineral\n",
    "    d0a2_ahe = d0_ahe / size_ahe**2.0    # Apatite\n",
    "    d0a2_zhe = d0_zhe / size_zhe**2.0    # Zircon\n",
    "    d0a2_mar = d0_mar / size_mar**2.0    # Muscovite\n",
    "\n",
    "    # Create thermal model arrays\n",
    "    z = np.linspace(0.0, z_max, npz)                    # Define depth range array\n",
    "    time = np.linspace(0.0, time_total, npt)            # Define time range array\n",
    "    time_ma = np.linspace(time_total, 0.0, npt)         # Define time array in Ma (time before present)\n",
    "    z_hist = np.linspace(time_total*vz, 0.0, npt)       # Define z particle position history\n",
    "    temp_hist = np.zeros(npt)                           # Define initial temperature history array\n",
    "    temp = np.zeros(npz)                                # Define initial temperature array\n",
    "\n",
    "    # Define increment for saving temperatures\n",
    "    iout = 0\n",
    "\n",
    "    # Create temperatures DataFrame\n",
    "    temp_df = pd.DataFrame(data={'Depth (km)':-z})\n",
    "\n",
    "    # Loop over all times and calculate temperature\n",
    "    for i in range(npt):\n",
    "        # Calculate temperature at time[i]\n",
    "        temp = temp_1D(z, time[i], temp_gradient, vz, kappa)\n",
    "        \n",
    "        # Set the temperature history temperature to high_temp if the tracked particle\n",
    "        # depth is below z_max (where temperature would be undefined)\n",
    "        if z_hist[i] > max(z):\n",
    "            temp_hist[i] = high_temp\n",
    "        # Otherwise, store the current temperature at the depth of the tracked particle\n",
    "        else:\n",
    "            temp_hist[i] = temp_1D(z_hist[i], time[i], temp_gradient, vz, kappa)\n",
    "\n",
    "        # If the current iteration is one of the save increments, save the geotherm\n",
    "        if i == iout:\n",
    "            string = str(time_ma[i])+\" Ma\"\n",
    "            temp_df[string] = temp\n",
    "            iout = iout + int(float(len(time)-1)/float(n_temp_save))\n",
    "\n",
    "    # Set the initial closure temperatures for the previous step to one\n",
    "    tc_ahe_prev = 1.0\n",
    "    tc_zhe_prev = 1.0\n",
    "    tc_mar_prev = 1.0\n",
    "\n",
    "    # Set the previous temperature to the max value in the current temperature array\n",
    "    temp_hist_prev = max(temp)\n",
    "\n",
    "    # Loop over all positions in the temperature history array\n",
    "    for i in range(len(temp_hist)):\n",
    "        # Calculate the cooling rate for the first temperature value\n",
    "        if i == 0:\n",
    "            dtdt = (temp_hist[i] - temp_hist[i+1]) / (time_ma[i] - time_ma[i+1])\n",
    "        # Calculate the cooling rate for the last temperature value\n",
    "        elif i == len(temp_hist)-1:\n",
    "            dtdt = (temp_hist[i-1] - temp_hist[i]) / (time_ma[i-1] - time_ma[i])\n",
    "        # Calculate the cooling rate for the the intermediate temperature values\n",
    "        else:\n",
    "            dtdt = (temp_hist[i-1] - temp_hist[i+1]) / (time_ma[i-1] - time_ma[i+1])\n",
    "\n",
    "        # Ensure the cooling rate is at least 1 deg. C per 10 Ma\n",
    "        dtdt = max(dtdt, 0.1 / (1.0e6 * 365.25 * 24.0 * 3600.0))\n",
    "\n",
    "        # Calculate various closure temperatures, if requested\n",
    "        if calc_ahe:\n",
    "            age_ahe, tc_ahe, tc_ahe_prev = dodson(tau_ahe, temp_hist[i], temp_hist_prev, time_ma[i],\n",
    "                                                  time_ma[i-1], age_ahe, tc_ahe_prev, ea_ahe, dtdt,\n",
    "                                                  a_ahe, d0a2_ahe, r)\n",
    "        if calc_zhe:\n",
    "            age_zhe, tc_zhe, tc_zhe_prev = dodson(tau_zhe, temp_hist[i], temp_hist_prev, time_ma[i],\n",
    "                                                  time_ma[i-1], age_zhe, tc_zhe_prev, ea_zhe, dtdt,\n",
    "                                                  a_zhe, d0a2_zhe, r)\n",
    "        if calc_mar:\n",
    "            age_mar, tc_mar, tc_mar_prev = dodson(tau_mar, temp_hist[i], temp_hist_prev, time_ma[i],\n",
    "                                                  time_ma[i-1], age_mar, tc_mar_prev, ea_mar, dtdt,\n",
    "                                                  a_mar, d0a2_mar, r)\n",
    "\n",
    "        # Store previous temperature in thermal history\n",
    "        temp_hist_prev = temp_hist[i]\n",
    "\n",
    "    # Save particle depth-temperature history if requested\n",
    "    if plot_temp_z_hist:\n",
    "        ex_hist_df = pd.DataFrame(index=temp_hist, data={'Exhumation history':-z_hist})\n",
    "    else:\n",
    "        ex_hist_df = None\n",
    "\n",
    "    # Plot results\n",
    "    # Make list of column titles, excluding depth\n",
    "    cols = temp_df.columns.values[1:]\n",
    "    # Plot starting geotherm\n",
    "    ax = temp_df.plot(x=cols[0], y='Depth (km)', figsize=(10,7), label=cols[0])\n",
    "    # Loop through and plot requested geotherms\n",
    "    for column in cols[1:]:\n",
    "        temp_df.plot(x=column, y='Depth (km)', ax=ax, label=column)\n",
    "    # Plot exhumation history, if requested\n",
    "    if plot_temp_z_hist:\n",
    "        # Delete \"pass\" below and add your commands to plot the exhumation history\n",
    "        pass\n",
    "\n",
    "    # Write thermochronometer age(s) to screen, if requested\n",
    "    # Set to ages to None if age prediction is not requested\n",
    "    if calc_ahe:\n",
    "        print(\"Apatite (U-Th)/He age: {0:.2f} Ma\".format(age_ahe))\n",
    "    else:\n",
    "        age_ahe = None\n",
    "\n",
    "    if calc_zhe:\n",
    "        print(\"Zircon (U-Th)/He age: {0:.2f} Ma\".format(age_zhe))\n",
    "    else:\n",
    "        age_zhe = None\n",
    "\n",
    "    if calc_mar:\n",
    "        print(\"Muscovite Ar/Ar age: {0:.2f} Ma\".format(age_mar))\n",
    "    else:\n",
    "        age_mar = None\n",
    "    \n",
    "    return temp_df, ex_hist_df, ax, age_ahe, age_zhe, age_mar"
   ]
  },
  {
   "cell_type": "markdown",
   "metadata": {
    "deletable": false,
    "editable": false,
    "nbgrader": {
     "cell_type": "markdown",
     "checksum": "d856df95b3da9184ebc73edce27da23b",
     "grade": false,
     "grade_id": "cell-d595cf671e5d6d49",
     "locked": true,
     "schema_version": 3,
     "solution": false
    }
   },
   "source": [
    "Call the updated `age_predict` function in the cell below."
   ]
  },
  {
   "cell_type": "code",
   "execution_count": null,
   "metadata": {
    "deletable": false,
    "nbgrader": {
     "cell_type": "code",
     "checksum": "dc42fb12d2ed318fb7ae1e612e0cec2a",
     "grade": false,
     "grade_id": "problem_1_ag_p1_ex6",
     "locked": false,
     "schema_version": 3,
     "solution": true,
     "task": false
    }
   },
   "outputs": [],
   "source": [
    "# Call the age_predict function below\n",
    "age_output = None\n",
    "\n",
    "# YOUR CODE HERE\n",
    "raise NotImplementedError()"
   ]
  },
  {
   "cell_type": "markdown",
   "metadata": {
    "deletable": false,
    "nbgrader": {
     "cell_type": "markdown",
     "checksum": "aa8a1da28f0d6f027856e828fc84ea96",
     "grade": true,
     "grade_id": "problem_1_mg_p1_ex6_caption",
     "locked": false,
     "points": 1,
     "schema_version": 3,
     "solution": true
    }
   },
   "source": [
    "YOUR ANSWER HERE"
   ]
  },
  {
   "cell_type": "code",
   "execution_count": null,
   "metadata": {
    "deletable": false,
    "editable": false,
    "nbgrader": {
     "cell_type": "code",
     "checksum": "714d6b28c2ded4614eb3621936600f7d",
     "grade": true,
     "grade_id": "problem_1_ag_p1_ex6_test1",
     "locked": true,
     "points": 1,
     "schema_version": 3,
     "solution": false,
     "task": false
    }
   },
   "outputs": [],
   "source": [
    "# This test should work\n",
    "print('The zircon (U-Th)/He age should be 26.84 Ma. My age is {0:.2f} Ma.'.format(age_output[4]))\n"
   ]
  },
  {
   "cell_type": "markdown",
   "metadata": {
    "deletable": false,
    "editable": false,
    "nbgrader": {
     "cell_type": "markdown",
     "checksum": "f0d796b8e372ec8064fda207ea2090fc",
     "grade": false,
     "grade_id": "cell-81f12261ac6dd545",
     "locked": true,
     "schema_version": 3,
     "solution": false
    }
   },
   "source": [
    "## Part 2: Reading the age data (*2 points*)\n",
    "\n",
    "In order to be able to compare our predicted thermochronometer ages to some data, we'll next need to load [the data file](data/Bhutan_age_data.txt). Using the past exercises as examples (look at those notebooks :) ), you should edit the `age_predict` function cell to read a data file and store the contents in a pandas DataFrame. The data file has a header that lists the data contained in each column, and there are NA values indicated by `'-9999'`.\n",
    "\n",
    "- Add some lines to the `age_predict` function to read [the data file](data/Bhutan_age_data.txt) into a variable called `data` using pandas.\n",
    "    - When you read in the data, also convert the `'-9999'` values to NA values in the DataFrame.\n",
    "        - Measured ages are listed for each sample location in the data file, but not every sample has been analyzed for each different thermochronometer system.\n",
    "    - I suggest you read the data file after the predicted thermochronometer ages are calculated.\n",
    "- Create **3** separate pandas Series for the measured age data without the NA values.\n",
    "    - These could be called `ahe_data`, `zhe_data`, and `mar_data`, for example and would only contain the measured age values for the corresponding age systems (i.e., no missing data in these Series).\n",
    "    - If you're having trouble, check out [the hints for this week's exercise](https://introqg.github.io/site/lessons/L7/exercise-7.html)!\n",
    "- Run the Python cell containing the `age_predict` function to store the updated version in memory.\n",
    "- Call the `age_predict` function in the cell below just to make sure it works. There is no need to save the plot or include a caption for this part."
   ]
  },
  {
   "cell_type": "code",
   "execution_count": null,
   "metadata": {
    "deletable": false,
    "nbgrader": {
     "cell_type": "code",
     "checksum": "5d3db3c1c54cfc335f37180b21c7810b",
     "grade": true,
     "grade_id": "problem_1_mg_p2_read_data",
     "locked": false,
     "points": 2,
     "schema_version": 3,
     "solution": true,
     "task": false
    }
   },
   "outputs": [],
   "source": [
    "# YOUR CODE HERE\n",
    "raise NotImplementedError()"
   ]
  },
  {
   "cell_type": "markdown",
   "metadata": {
    "deletable": false,
    "editable": false,
    "nbgrader": {
     "cell_type": "markdown",
     "checksum": "76d162f7c37d3ef006fa712b7d1614af",
     "grade": false,
     "grade_id": "cell-e5955bee20917a6f",
     "locked": true,
     "schema_version": 3,
     "solution": false
    }
   },
   "source": [
    "## Part 3: Calculating a goodness-of-fit, again (*3 points*)\n",
    "\n",
    "Your next task is to define a function to calculate the goodness-of-fit using the reduced chi-squared equation introduced in Exercise 2,\n",
    "\n",
    "\\begin{equation}\n",
    "  \\Large\n",
    "  \\chi^{2} = \\frac{1}{N} \\sum \\frac{(O_{i} - E_{i})^{2}}{\\sigma_{i}^2}\n",
    "\\end{equation}\n",
    "\n",
    "where $N$ is the number of ages, $O_{i}$ is the $i$th measured age, $E_{i}$ is the $i$th predicted age, and $\\sigma_{i}$ is the $i$th standard deviation.\n",
    "\n",
    "- Create a function called `chi_squared` that can be used to calculate the reduced chi-squared value for the data in the age data file.\n",
    "    - **NOTE**: We will be using this reduced chi-squared equation to calculate the misfit between each measured age and a single predicted age for a given thermochronometer system. Thus, when you create your `chi_squared` function it should assume you call it with a list or array of measured ages and a single predicted age (rather than a list of predicted ages).\n",
    "    - If you're having trouble, check out [the hints for this week's exercise](https://introqg.github.io/site/lessons/L7/exercise-7.html)!\n",
    "- Modify the cell containing the `age_predict` function to call your `chi_squared` function any time predicted ages are calculated for one of the thermochronometer systems.\n",
    "    - This should be done below the part of the function that reads the data file.\n",
    "    - Store the misfit values as `ahe_misfit`, `zhe_misfit`, and `mar_misfit`.\n",
    "    - You should also add the `ahe_misfit`, `zhe_misfit`, and `mar_misfit` variables (in that order) to the list of values returned from the function.\n",
    "    - Remember to use the age and uncertainty values without NA values when calculating the misfits.\n",
    "        - If you're having trouble with this, check out [the hints for this week's exercise](https://introqg.github.io/site/lessons/L7/exercise-7.html)!\n",
    "- Run the Python cell containing the `age_predict` function to store the updated version in memory.\n",
    "- Call the `age_predict` function in the cell below the `chi_squared` function tests just to make sure it works. There is no need to save the plot or include a caption for this part."
   ]
  },
  {
   "cell_type": "code",
   "execution_count": null,
   "metadata": {
    "deletable": false,
    "nbgrader": {
     "cell_type": "code",
     "checksum": "4be6d31e48501fbd067d7df76489625b",
     "grade": false,
     "grade_id": "problem_1_ag_p3_misfit",
     "locked": false,
     "schema_version": 3,
     "solution": true
    }
   },
   "outputs": [],
   "source": [
    "def chi_squared(measured, predicted, std):\n",
    "    \"\"\"Returns the reduced chi-squared value for input age data.\"\"\"\n",
    "# YOUR CODE HERE\n",
    "raise NotImplementedError()"
   ]
  },
  {
   "cell_type": "code",
   "execution_count": null,
   "metadata": {
    "deletable": false,
    "editable": false,
    "nbgrader": {
     "cell_type": "code",
     "checksum": "5067f3750c8a4992e466aee2dba4a4b0",
     "grade": true,
     "grade_id": "problem_1_ag_p3_misfit_test1",
     "locked": true,
     "points": 1,
     "schema_version": 3,
     "solution": false
    }
   },
   "outputs": [],
   "source": [
    "# The visible tests below should work\n",
    "from nose.tools import assert_equal\n",
    "\n",
    "# Fake data\n",
    "obs = np.array([1.1, 2.9, 2.6, 3.5, 5.7, 2.8])\n",
    "pred = np.array(1.5)\n",
    "std = np.array([0.5, 1.4, 0.6, 1.5, 0.7, 1.0])\n",
    "\n",
    "# Print calculated misfit value\n",
    "print('The goodness-of-fit should be 7.41. My goodness-of-fit is {0:.2f}.'.format(chi_squared(obs, pred, std)))\n",
    "\n",
    "# Check that the function values are correct\n",
    "assert_equal(round(chi_squared(obs[:3], pred, std[:3]), 4), 1.6670)\n",
    "assert_equal(round(chi_squared(obs, pred, std), 4), 7.4115)"
   ]
  },
  {
   "cell_type": "markdown",
   "metadata": {
    "deletable": false,
    "editable": false,
    "nbgrader": {
     "cell_type": "markdown",
     "checksum": "aea0050243e9c94b62edd555cbf11249",
     "grade": false,
     "grade_id": "cell-29a930ade286e800",
     "locked": true,
     "schema_version": 3,
     "solution": false,
     "task": false
    }
   },
   "source": [
    "Run the `age_predict` function below to test that the `chi_squared` function is working properly within it."
   ]
  },
  {
   "cell_type": "code",
   "execution_count": null,
   "metadata": {
    "deletable": false,
    "nbgrader": {
     "cell_type": "code",
     "checksum": "747a0ba34b0a3536a5791854cc446d1b",
     "grade": false,
     "grade_id": "problem_1_ag_p3_call",
     "locked": false,
     "schema_version": 3,
     "solution": true,
     "task": false
    }
   },
   "outputs": [],
   "source": [
    "# Call the age_predict function below\n",
    "age_output = None\n",
    "\n",
    "# YOUR CODE HERE\n",
    "raise NotImplementedError()"
   ]
  },
  {
   "cell_type": "code",
   "execution_count": null,
   "metadata": {
    "deletable": false,
    "editable": false,
    "nbgrader": {
     "cell_type": "code",
     "checksum": "d2c784119841a8e4cedbb53743117599",
     "grade": true,
     "grade_id": "problem_1_ag_p3_call_test1",
     "locked": true,
     "points": 1,
     "schema_version": 3,
     "solution": false,
     "task": false
    }
   },
   "outputs": [],
   "source": [
    "# This test should work\n",
    "print('The apatite (U-Th)/He misfit should be 287.99. My age is {0:.2f}.'.format(age_output[6]))\n"
   ]
  },
  {
   "cell_type": "code",
   "execution_count": null,
   "metadata": {
    "deletable": false,
    "editable": false,
    "nbgrader": {
     "cell_type": "code",
     "checksum": "f52d9aac8ddfe4a5cac6442a2da9e63a",
     "grade": true,
     "grade_id": "problem_1_ag_p3_call_test2",
     "locked": true,
     "points": 1,
     "schema_version": 3,
     "solution": false,
     "task": false
    }
   },
   "outputs": [],
   "source": [
    "# This test should work\n",
    "print('The zircon (U-Th)/He misfit should be 23906.57. My age is {0:.2f}.'.format(age_output[7]))\n"
   ]
  },
  {
   "cell_type": "markdown",
   "metadata": {
    "deletable": false,
    "editable": false,
    "nbgrader": {
     "cell_type": "markdown",
     "checksum": "220712bf3c5516332228c6e454ba1ace",
     "grade": false,
     "grade_id": "cell-89b906e3051a01a0",
     "locked": true,
     "schema_version": 3,
     "solution": false
    }
   },
   "source": [
    "## Part 4: Visualizing the data fit (*5 points*)\n",
    "\n",
    "The last task in this problem is to produce a useful plot.\n",
    "\n",
    "- Edit the cell with the `age_predict` function to:\n",
    "    - Use the `plt.subplots()` command to make a plot that shows (a) the predicted geotherm and particle temperature-depth history in the upper panel (i.e., the plot from Exercise 6), and (b) the predicted and measured age data on the lower panel.\n",
    "        - This can be done by adding the command `fig, (ax, ax2) = plt.subplots(nrows=2, ncols=1)` where above the location where the first plot is generated. This command will create 2 subplots that can be referenced as `ax` and `ax2`.\n",
    "        - **Note**: With this change you will no longer define the value of `ax` when creating the first plot, but rather add the parameter `ax=ax` to the pandas plot function when making the first plot.\n",
    "    - For the lower plot:\n",
    "        - The *x*-axis should plot latitude and the *y*-axis should plot thermochronometer age, including vertical error bars for the measured ages.\n",
    "            - You can use the full measured age arrays here, not the \"clean\" data Series since the NA values will not be displayed on the plot.\n",
    "        - Plot the different thermochronometer systems with different symbol colors.\n",
    "        - The predicted ages can be shown using lines of constant age that have a range that includes the entire range of latitude of the measured age data. Their colors should match the corresponding measured age colors.\n",
    "        - This plot should also list the goodness-of-fit values for each thermochronometer system, as well as a total goodness-of-fit for the age dataset. You can use the `ax2.text()` function for this.\n",
    "        - Be sure to also define the axis labels.\n",
    "- Re-run the Python cell containing the `age_predict` function to store the updated version in memory.\n",
    "- Call the age_predict function with calculation of the all three thermochronometer ages **and** the time-temperature exhumation history enabled.\n",
    "    - As above, look at the definition of `age_predict` to see how to set the flags (`True`/`False` parameters) that allow you to enable the calculation of different thermochronometers.\n",
    "- Add a figure caption for the plot in the cell beneath it describing it as if it were in a scientific journal article."
   ]
  },
  {
   "cell_type": "code",
   "execution_count": null,
   "metadata": {
    "deletable": false,
    "nbgrader": {
     "cell_type": "code",
     "checksum": "f11657ff0b3d8b59c6154657465999b0",
     "grade": false,
     "grade_id": "problem_1_ag_p4_subplots",
     "locked": false,
     "schema_version": 3,
     "solution": true,
     "task": false
    }
   },
   "outputs": [],
   "source": [
    "# Call the age_predict function below\n",
    "age_output = None\n",
    "\n",
    "# YOUR CODE HERE\n",
    "raise NotImplementedError()"
   ]
  },
  {
   "cell_type": "markdown",
   "metadata": {
    "deletable": false,
    "nbgrader": {
     "cell_type": "markdown",
     "checksum": "ec1f1467e4fc4e37bb661a3a869088ff",
     "grade": true,
     "grade_id": "problem_1_mg_p4_subplots_caption",
     "locked": false,
     "points": 5,
     "schema_version": 3,
     "solution": true
    }
   },
   "source": [
    "YOUR ANSWER HERE"
   ]
  },
  {
   "cell_type": "markdown",
   "metadata": {
    "deletable": false,
    "editable": false,
    "nbgrader": {
     "cell_type": "markdown",
     "checksum": "c18b509eeb07283e422e41e2c7e435de",
     "grade": false,
     "grade_id": "cell-d8c03b21694d5992",
     "locked": true,
     "schema_version": 3,
     "solution": false
    }
   },
   "source": [
    "# Problem 2 - \"Fitting\" thermochronometer data (*8 points*)\n",
    "\n",
    "Using the code changes you have made in Problem 1, your goal is now to find the average long-term exhumation rates that provide good fits to the measured thermochronometer data."
   ]
  },
  {
   "cell_type": "markdown",
   "metadata": {
    "deletable": false,
    "editable": false,
    "nbgrader": {
     "cell_type": "markdown",
     "checksum": "06ee2867dcf7e032b89d43401110a06f",
     "grade": false,
     "grade_id": "cell-6b826e9dbe9c7082",
     "locked": true,
     "schema_version": 3,
     "solution": false
    }
   },
   "source": [
    "## Part 1: Fitting all the ages (*2 points*)\n",
    "\n",
    "We'll start this problem by minimizing the misfit value for all of the thermochronometer data in this part.\n",
    "\n",
    "- Call the `age_predict` function in a series of models where you change only the vertical advection velocity `vz_all` in order to find a minimum goodness-of-fit value for the whole thermochronometer age dataset (i.e., the total misfit).\n",
    "    - Call the age_predict function with calculation of the all three thermochronometer ages **and** the time-temperature exhumation history enabled.\n",
    "        - As above, look at the definition of `age_predict` to see how to set the flags (`True`/`False` parameters) that allow you to enable the calculation of different thermochronometers.\n",
    "    - You do not need to find the absolute minimum goodness-of-fit value, but rather the minimum value you get for advection velocities to the nearest 0.1 km/Ma.\n",
    "- Add a figure caption for the plot in the cell beneath it describing it as if it were in a scientific journal article.\n",
    "    - Be sure the advection velocity (exhumation rate) and misfit value are clearly displayed on the plot."
   ]
  },
  {
   "cell_type": "code",
   "execution_count": null,
   "metadata": {
    "deletable": false,
    "nbgrader": {
     "cell_type": "code",
     "checksum": "0570b7f3651ccef330424059004eb1be",
     "grade": false,
     "grade_id": "problem_2_ag_p1_total_misfit",
     "locked": false,
     "schema_version": 3,
     "solution": true,
     "task": false
    }
   },
   "outputs": [],
   "source": [
    "# Call the age_predict function below\n",
    "vz_all = None\n",
    "age_output = None\n",
    "\n",
    "# YOUR CODE HERE\n",
    "raise NotImplementedError()"
   ]
  },
  {
   "cell_type": "markdown",
   "metadata": {
    "deletable": false,
    "nbgrader": {
     "cell_type": "markdown",
     "checksum": "ef35a214e554eadc4d2bb9cc732c1858",
     "grade": true,
     "grade_id": "problem_2_mg_p1_total_misfit_caption",
     "locked": false,
     "points": 1,
     "schema_version": 3,
     "solution": true
    }
   },
   "source": [
    "YOUR ANSWER HERE"
   ]
  },
  {
   "cell_type": "code",
   "execution_count": null,
   "metadata": {
    "deletable": false,
    "editable": false,
    "nbgrader": {
     "cell_type": "code",
     "checksum": "da245c5fd84a872b2b1a781cf52d2e8a",
     "grade": true,
     "grade_id": "problem_2_ag_p1_total_misfit_test1",
     "locked": true,
     "points": 1,
     "schema_version": 3,
     "solution": false,
     "task": false
    }
   },
   "outputs": [],
   "source": [
    "# This test should work\n",
    "print('My predicted apatite (U-Th)/He age for an exhumation rate of {0:.1f} km/Ma is {1:.2f} Ma.'.format(vz_all, age_output[3]))\n"
   ]
  },
  {
   "cell_type": "markdown",
   "metadata": {
    "deletable": false,
    "editable": false,
    "nbgrader": {
     "cell_type": "markdown",
     "checksum": "377422ff9f979f9e6f13e0e2f0335a1f",
     "grade": false,
     "grade_id": "cell-0e8d97e4df773c7f",
     "locked": true,
     "schema_version": 3,
     "solution": false
    }
   },
   "source": [
    "## Part 2: Fitting the apatite (U-Th)/He ages (*2 points*)\n",
    "\n",
    "Now we can focus on fitting a single thermochronometer system.\n",
    "\n",
    "- Call the `age_predict` function in a series of models where you change only the vertical advection velocity `vz_ahe` in order to find a minimum goodness-of-fit value to the apatite (U-Th)/He age data.\n",
    "    - Call the age_predict function with calculation of the all three thermochronometer ages **and** the time-temperature exhumation history enabled.\n",
    "        - As above, look at the definition of `age_predict` to see how to set the flags (`True`/`False` parameters) that allow you to enable the calculation of different thermochronometers.\n",
    "    - You do not need to find the absolute minimum goodness-of-fit value, but rather the minimum value you get for advection velocities to the nearest 0.1 mm/a.\n",
    "- Add a figure caption for the plot in the cell beneath it describing it as if it were in a scientific journal article.\n",
    "    - Be sure the advection velocity (exhumation rate) and apatite (U-Th)/He misfit value are clearly displayed on the plot."
   ]
  },
  {
   "cell_type": "code",
   "execution_count": null,
   "metadata": {
    "deletable": false,
    "nbgrader": {
     "cell_type": "code",
     "checksum": "377a9d1b7bd072e184df2ecab859c5b5",
     "grade": false,
     "grade_id": "problem_2_ag_p2_ahe_misfit",
     "locked": false,
     "schema_version": 3,
     "solution": true,
     "task": false
    }
   },
   "outputs": [],
   "source": [
    "# Call the age_predict function below\n",
    "vz_ahe = None\n",
    "age_output = None\n",
    "\n",
    "# YOUR CODE HERE\n",
    "raise NotImplementedError()"
   ]
  },
  {
   "cell_type": "markdown",
   "metadata": {
    "deletable": false,
    "nbgrader": {
     "cell_type": "markdown",
     "checksum": "670d27998cd58633f485b99887d88fa2",
     "grade": true,
     "grade_id": "problem_2_mg_p2_ahe_misfit_caption",
     "locked": false,
     "points": 1,
     "schema_version": 3,
     "solution": true
    }
   },
   "source": [
    "YOUR ANSWER HERE"
   ]
  },
  {
   "cell_type": "code",
   "execution_count": null,
   "metadata": {
    "deletable": false,
    "editable": false,
    "nbgrader": {
     "cell_type": "code",
     "checksum": "ff471eca66048c8446b1a1f78fdef66a",
     "grade": true,
     "grade_id": "problem_2_ag_p2_ahe_misfit_test1",
     "locked": true,
     "points": 1,
     "schema_version": 3,
     "solution": false,
     "task": false
    }
   },
   "outputs": [],
   "source": [
    "# This test should work\n",
    "print('My predicted apatite (U-Th)/He age for an exhumation rate of {0:.1f} km/Ma is now {1:.2f} Ma.'.format(vz_ahe, age_output[3]))\n"
   ]
  },
  {
   "cell_type": "markdown",
   "metadata": {
    "deletable": false,
    "editable": false,
    "nbgrader": {
     "cell_type": "markdown",
     "checksum": "d9a9eb7df37b1487a2c55033064eb28d",
     "grade": false,
     "grade_id": "cell-e4bef5795ad15e6c",
     "locked": true,
     "schema_version": 3,
     "solution": false
    }
   },
   "source": [
    "## Part 3: Fitting the zircon (U-Th)/He ages (*2 points*)\n",
    "\n",
    "Now we can focus on fitting a single thermochronometer system.\n",
    "\n",
    "- Call the `age_predict` function in a series of models where you change only the vertical advection velocity `vz_zhe` in order to find a minimum goodness-of-fit value to the zircon (U-Th)/He age data.\n",
    "    - Call the age_predict function with calculation of the all three thermochronometer ages **and** the time-temperature exhumation history enabled.\n",
    "        - As above, look at the definition of `age_predict` to see how to set the flags (`True`/`False` parameters) that allow you to enable the calculation of different thermochronometers.\n",
    "    - You do not need to find the absolute minimum goodness-of-fit value, but rather the minimum value you get for advection velocities to the nearest 0.1 mm/a.\n",
    "- Add a figure caption for the plot in the cell beneath it describing it as if it were in a scientific journal article.\n",
    "    - Be sure the advection velocity (exhumation rate) and zircon (U-Th)/He misfit value are clearly displayed on the plot."
   ]
  },
  {
   "cell_type": "code",
   "execution_count": null,
   "metadata": {
    "deletable": false,
    "nbgrader": {
     "cell_type": "code",
     "checksum": "c8bb32f29850baf1771f6f614dbbbecd",
     "grade": false,
     "grade_id": "problem_2_ag_p3_zhe_misfit",
     "locked": false,
     "schema_version": 3,
     "solution": true,
     "task": false
    }
   },
   "outputs": [],
   "source": [
    "# Call the age_predict function below\n",
    "vz_zhe = None\n",
    "age_output = None\n",
    "\n",
    "# YOUR CODE HERE\n",
    "raise NotImplementedError()"
   ]
  },
  {
   "cell_type": "markdown",
   "metadata": {
    "deletable": false,
    "nbgrader": {
     "cell_type": "markdown",
     "checksum": "94aac07e0ac6068827200f5602312ed2",
     "grade": true,
     "grade_id": "problem_2_mg_p3_zhe_misfit_caption",
     "locked": false,
     "points": 1,
     "schema_version": 3,
     "solution": true
    }
   },
   "source": [
    "YOUR ANSWER HERE"
   ]
  },
  {
   "cell_type": "code",
   "execution_count": null,
   "metadata": {
    "deletable": false,
    "editable": false,
    "nbgrader": {
     "cell_type": "code",
     "checksum": "4e0b8bab97460853e74831298bc09b0c",
     "grade": true,
     "grade_id": "problem_2_ag_p3_zhe_misfit_test1",
     "locked": true,
     "points": 1,
     "schema_version": 3,
     "solution": false,
     "task": false
    }
   },
   "outputs": [],
   "source": [
    "# This test should work\n",
    "print('My predicted zircon (U-Th)/He age for an exhumation rate of {0:.1f} km/Ma is {1:.2f} Ma.'.format(vz_zhe, age_output[4]))\n"
   ]
  },
  {
   "cell_type": "markdown",
   "metadata": {
    "deletable": false,
    "editable": false,
    "nbgrader": {
     "cell_type": "markdown",
     "checksum": "aad06c8957e5e3b77361058f58d9bf91",
     "grade": false,
     "grade_id": "cell-40eb225d19dbcd1a",
     "locked": true,
     "schema_version": 3,
     "solution": false
    }
   },
   "source": [
    "## Part 4: Fitting the muscovite $^{40}$Ar/$^{39}$Ar ages (*2 points*)\n",
    "\n",
    "Now we can focus on fitting a single thermochronometer system.\n",
    "\n",
    "- Call the `age_predict` function in a series of models where you change only the vertical advection velocity `vz_mar` in order to find a minimum goodness-of-fit value to the muscovite $^{40}$Ar/$^{39}$Ar age data.\n",
    "    - Call the age_predict function with calculation of the all three thermochronometer ages **and** the time-temperature exhumation history enabled.\n",
    "        - As above, look at the definition of `age_predict` to see how to set the flags (`True`/`False` parameters) that allow you to enable the calculation of different thermochronometers.\n",
    "    - You do not need to find the absolute minimum goodness-of-fit value, but rather the minimum value you get for advection velocities to the nearest 0.1 mm/a.\n",
    "- Add a figure caption for the plot in the cell beneath it describing it as if it were in a scientific journal article.\n",
    "    - Be sure the advection velocity (exhumation rate) and muscovite $^{40}$Ar/$^{39}$Ar misfit value are clearly displayed on the plot."
   ]
  },
  {
   "cell_type": "code",
   "execution_count": null,
   "metadata": {
    "deletable": false,
    "nbgrader": {
     "cell_type": "code",
     "checksum": "7388f06be904a24ae8cf647339a9a383",
     "grade": false,
     "grade_id": "problem_2_ag_p4_mar_misfit",
     "locked": false,
     "schema_version": 3,
     "solution": true,
     "task": false
    }
   },
   "outputs": [],
   "source": [
    "# Call the age_predict function below\n",
    "vz_mar = None\n",
    "age_output = None\n",
    "\n",
    "# YOUR CODE HERE\n",
    "raise NotImplementedError()"
   ]
  },
  {
   "cell_type": "markdown",
   "metadata": {
    "deletable": false,
    "nbgrader": {
     "cell_type": "markdown",
     "checksum": "9340a34ba5b63c0979176f8887f0db62",
     "grade": true,
     "grade_id": "problem_2_mg_p4_mar_misfit_caption",
     "locked": false,
     "points": 1,
     "schema_version": 3,
     "solution": true
    }
   },
   "source": [
    "YOUR ANSWER HERE"
   ]
  },
  {
   "cell_type": "code",
   "execution_count": null,
   "metadata": {
    "deletable": false,
    "editable": false,
    "nbgrader": {
     "cell_type": "code",
     "checksum": "fc5106bb4477a4837af4f0b13ebc6e90",
     "grade": true,
     "grade_id": "problem_2_ag_p4_mar_misfit_test1",
     "locked": true,
     "points": 1,
     "schema_version": 3,
     "solution": false,
     "task": false
    }
   },
   "outputs": [],
   "source": [
    "# This test should work\n",
    "print('My predicted muscovite Ar/Ar age for an exhumation rate of {0:.1f} km/Ma is {1:.2f} Ma.'.format(vz_mar, age_output[5]))\n"
   ]
  },
  {
   "cell_type": "markdown",
   "metadata": {
    "deletable": false,
    "editable": false,
    "nbgrader": {
     "cell_type": "markdown",
     "checksum": "a0594b5ea5d02b2e633ad3cd6f7327d0",
     "grade": false,
     "grade_id": "cell-ae9f13ed81b4210b",
     "locked": true,
     "schema_version": 3,
     "solution": false
    }
   },
   "source": [
    "## References\n",
    "\n",
    "Coutand, I., Whipp, D. M., Grujic, D., Bernet, M., Fellin, M. G., Bookhagen, B., et al. (2014). [Geometry and kinematics of the Main Himalayan Thrust and Neogene crustal exhumation in the Bhutanese Himalaya derived from inversion of multithermochronologic data](https://dx.doi.org/10.1002/2013JB010891). *Journal of Geophysical Research: Solid Earth*.\n",
    "\n",
    "Stüwe, K., & Foster, D. (2001). [<sup>40</sup>Ar/<sup>39</sup>Ar, pressure, temperature and fission track constraints on the age and nature of metamorphism around the main central thrust in the eastern Bhutan Himalaya](https://www.sciencedirect.com/science/article/pii/S1367912000000183). *Journal of Asian Earth Sciences*, 19(1), 85–95."
   ]
  }
 ],
 "metadata": {
  "kernelspec": {
   "display_name": "Python 3",
   "language": "python",
   "name": "python3"
  },
  "language_info": {
   "codemirror_mode": {
    "name": "ipython",
    "version": 3
   },
   "file_extension": ".py",
   "mimetype": "text/x-python",
   "name": "python",
   "nbconvert_exporter": "python",
   "pygments_lexer": "ipython3",
   "version": "3.7.4"
  }
 },
 "nbformat": 4,
 "nbformat_minor": 2
}
